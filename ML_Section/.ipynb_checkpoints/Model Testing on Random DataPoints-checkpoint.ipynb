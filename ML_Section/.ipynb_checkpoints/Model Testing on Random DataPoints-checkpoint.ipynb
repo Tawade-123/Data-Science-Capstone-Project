{
 "cells": [
  {
   "cell_type": "code",
   "execution_count": 1,
   "id": "17ded6c5-f48e-4542-8ee8-27c78b24aff4",
   "metadata": {},
   "outputs": [],
   "source": [
    "import pandas as pd\n",
    "\n",
    "# Load the original dataset\n",
    "df = pd.read_csv('car_details.csv')\n",
    "\n",
    "# Randomly sample 20 data points\n",
    "sampled_df = df.sample(n=20, random_state=42)\n",
    "\n",
    "# Save the sampled dataset to a new file\n",
    "sampled_df.to_csv('random_datapoints_car_details.csv', index=False)\n",
    "\n"
   ]
  }
 ],
 "metadata": {
  "kernelspec": {
   "display_name": "Python 3 (ipykernel)",
   "language": "python",
   "name": "python3"
  },
  "language_info": {
   "codemirror_mode": {
    "name": "ipython",
    "version": 3
   },
   "file_extension": ".py",
   "mimetype": "text/x-python",
   "name": "python",
   "nbconvert_exporter": "python",
   "pygments_lexer": "ipython3",
   "version": "3.12.6"
  }
 },
 "nbformat": 4,
 "nbformat_minor": 5
}
